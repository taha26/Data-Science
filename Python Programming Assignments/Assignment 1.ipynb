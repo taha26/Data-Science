{
 "cells": [
  {
   "cell_type": "code",
   "execution_count": 1,
   "id": "a8fa85f0",
   "metadata": {},
   "outputs": [
    {
     "name": "stdout",
     "output_type": "stream",
     "text": [
      "Twinkle, twinkle, little star,\n",
      "\tHow I wonder what you are! \n",
      "\t\tUp above the world so high\n",
      "\t\tLike a diamond in the sky.\n",
      "Twinkle, twinkle, little star,\n",
      "\tHow I wonder what you are! \n"
     ]
    }
   ],
   "source": [
    "#1. Write a Python program to print the following string in a specific format.\n",
    "\n",
    "\n",
    "print('Twinkle, twinkle, little star,')\n",
    "print('\\tHow I wonder what you are! ')\n",
    "print('\\t\\tUp above the world so high')\n",
    "print('\\t\\tLike a diamond in the sky.')\n",
    "print('Twinkle, twinkle, little star,')\n",
    "print('\\tHow I wonder what you are! ')"
   ]
  },
  {
   "cell_type": "code",
   "execution_count": 2,
   "id": "f3c8c139",
   "metadata": {},
   "outputs": [
    {
     "name": "stdout",
     "output_type": "stream",
     "text": [
      "Python version:-\n",
      "3.8.8 (default, Apr 13 2021, 15:08:07) [MSC v.1916 32 bit (Intel)]\n",
      "Version information:-\n",
      "sys.version_info(major=3, minor=8, micro=8, releaselevel='final', serial=0)\n"
     ]
    }
   ],
   "source": [
    "#2. Write a Python program to get the Python version you are using.\n",
    "\n",
    "\n",
    "import sys \n",
    "\n",
    "print (\"Python version:-\")\n",
    "print (sys.version)\n",
    "print (\"Version information:-\")\n",
    "print (sys.version_info)"
   ]
  },
  {
   "cell_type": "code",
   "execution_count": 3,
   "id": "910aa01d",
   "metadata": {},
   "outputs": [
    {
     "name": "stdout",
     "output_type": "stream",
     "text": [
      "Current date and time:-  30/12/2021   20:22:08\n"
     ]
    }
   ],
   "source": [
    "#3. Write a Python program to display the current date and time.\n",
    "\n",
    "\n",
    "import datetime\n",
    "\n",
    "current = datetime.datetime.now()\n",
    "print (\"Current date and time:- \",current.strftime(\"%d/%m/%Y   %H:%M:%S\"))"
   ]
  },
  {
   "cell_type": "code",
   "execution_count": 4,
   "id": "f1aba598",
   "metadata": {},
   "outputs": [
    {
     "name": "stdout",
     "output_type": "stream",
     "text": [
      "Input the radius of the circle : 6\n",
      "The area of the circle with radius 6.0 is: 113.09733552923255\n"
     ]
    }
   ],
   "source": [
    "#4. Write a Python program which accepts the radius of a circle from the user and compute the area.\n",
    "\n",
    "from math import pi\n",
    "r = float(input (\"Input the radius of the circle : \"))\n",
    "print (\"The area of the circle with radius \" + str(r) + \" is: \" + str(pi * r**2))"
   ]
  },
  {
   "cell_type": "code",
   "execution_count": 5,
   "id": "ce3c41a1",
   "metadata": {},
   "outputs": [
    {
     "name": "stdout",
     "output_type": "stream",
     "text": [
      "First Name: Muhammad\n",
      "Last  Name: Taha\n",
      "Taha Muhammad\n"
     ]
    }
   ],
   "source": [
    "#5. Write a Python program which accepts the user's first and last name and print them in reverse order with a space between them.\n",
    "\n",
    "firstname = input(\"First Name: \")\n",
    "lastname = input(\"Last  Name: \")\n",
    "print(lastname,firstname)"
   ]
  },
  {
   "cell_type": "code",
   "execution_count": 6,
   "id": "548813c4",
   "metadata": {},
   "outputs": [
    {
     "name": "stdout",
     "output_type": "stream",
     "text": [
      "a = 5\n",
      "b = 7\n",
      "Sum of a and b = 12\n"
     ]
    }
   ],
   "source": [
    "#6. Write a python program which takes two inputs from user and print them addition.\n",
    "\n",
    "a1 = input(\"a = \")\n",
    "b1 = input(\"b = \")\n",
    "c = int(a1)+int(b1)\n",
    "print(\"Sum of a and b =\",c)"
   ]
  },
  {
   "cell_type": "code",
   "execution_count": null,
   "id": "067eb01b",
   "metadata": {},
   "outputs": [],
   "source": []
  }
 ],
 "metadata": {
  "kernelspec": {
   "display_name": "Python 3",
   "language": "python",
   "name": "python3"
  },
  "language_info": {
   "codemirror_mode": {
    "name": "ipython",
    "version": 3
   },
   "file_extension": ".py",
   "mimetype": "text/x-python",
   "name": "python",
   "nbconvert_exporter": "python",
   "pygments_lexer": "ipython3",
   "version": "3.8.8"
  }
 },
 "nbformat": 4,
 "nbformat_minor": 5
}
